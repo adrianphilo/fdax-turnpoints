{
  "cells": [
    {
      "cell_type": "code",
      "execution_count": null,
      "metadata": {
        "id": "ZHVw0oWLhCs0"
      },
      "outputs": [],
      "source": [
        "#path = '/content/drive/My Drive/dax_ml/orgdat_ab240409_size/cnv_org2trd/train_data/'\n",
        "path = '/content/'\n",
        "triggerCol = \"mytrig_hi\"   #\"trigger500lo\"  mytrig_hi"
      ]
    },
    {
      "cell_type": "code",
      "execution_count": null,
      "metadata": {
        "id": "Ugj2EznpQWee"
      },
      "outputs": [],
      "source": [
        "import pandas as pd\n",
        "import numpy as np\n",
        "from sklearn import preprocessing\n",
        "import tensorflow as tf\n",
        "from tensorflow.keras.callbacks import EarlyStopping\n",
        "from tensorflow.keras.callbacks import ModelCheckpoint\n",
        "import plotly.express as px\n",
        "import plotly.graph_objs as go\n",
        "import os"
      ]
    },
    {
      "cell_type": "code",
      "execution_count": null,
      "metadata": {
        "id": "o5RwYmVaQq9C"
      },
      "outputs": [],
      "source": [
        "# Funktion zum Erstellen von Datensätzen für LSTM aus einem Dataset , die gewählte tiefe der vergangenheit ist 10\n",
        "# das übergebene dataset hat das format: anzahlBlöcke x ( [list der features(20)] + trigger )\n",
        "def create_trainingsset(dataset, look_back=10):\n",
        "  X, Y = [], []\n",
        "  for i in range(len(dataset)-look_back-1):\n",
        "    a = dataset[i:(i+look_back), :-1]   # array ohne letzte spalte\n",
        "    X.append(a)\n",
        "    Y.append(dataset[i + look_back, -1])  # letzte spalte ist Y\n",
        "  return np.array(X), np.array(Y)"
      ]
    },
    {
      "cell_type": "code",
      "execution_count": null,
      "metadata": {
        "id": "trZuukMVpdAa"
      },
      "outputs": [],
      "source": [
        "  def create_day4lstm(path, name, triggercol_):\n",
        "    df3  = pd.read_csv( path + name )\n",
        "    mytrig = True if (triggercol_[:6] == \"mytrig\") else False\n",
        "    if mytrig:\n",
        "      dff  = pd.read_csv( path + '../fix/' + name[:-7] +'Scorefix1.csv')\n",
        "      df3c = pd.concat([df3, dff] , axis = 1)\n",
        "    else:\n",
        "      df3c = df3\n",
        "\n",
        "    df3c[\"avg1000diff250\"] =df3c[\"avg1000diffAct\"] - df3c[\"avg250diffAct\"]\n",
        "    df3c[\"ago250diffAct\"]  =df3c[\"ago250price\"]   -df3c[\"priceMean\"]\n",
        "    df3c[\"ago1000diffAct\"] =df3c[\"ago1000price\"]  -df3c[\"priceMean\"]\n",
        "    df3c[\"trigger500hi\"]   =df3c['trigger500'] .shift(+2, fill_value=0).clip(lower=0)\n",
        "    df3c[\"trigger500lo\"]   =df3c['trigger500'] .shift(+2, fill_value=0).clip(upper=0) * -1\n",
        "    df3c[\"trigger1000hi\"]  =df3c['trigger1000'].shift(+2, fill_value=0).clip(lower=0)\n",
        "    df3c[\"trigger1000lo\"]  =df3c['trigger1000'].shift(+2, fill_value=0).clip(upper=0) * -1\n",
        "    if mytrig:\n",
        "      df3c[\"mytrig_hi\"]  =df3c['mytrig_'].shift(+2, fill_value=0).clip(lower=0)         # shift(+1\n",
        "      df3c[\"mytrig_lo\"]  =df3c['mytrig_'].shift(+2, fill_value=0).clip(upper=0) * -1\n",
        "\n",
        "    #   scoresize = 25 : anzahl trades als kleinste auswertungsblock mit min, max, mean, etc...  (zum traden evtl. zu groß gewaehlt)\n",
        "    #   avgsize   = 50 : anzahl trades die für avgXX werte genommenw werden\n",
        "    #   alle price angaben sind relativ zum startprice des tages\n",
        "    featr  = [  \"timescore\",      #  je kürzer der block desto wertvoller deshalb (3/timediff_sec)\n",
        "                \"volSum\",         #  summe gehandelte trades im Block\n",
        "                \"prcdiff\",        #  aenderung des Preises zum vorghrigen block (prc_last)\n",
        "                \"prcgrad\",        #  Steigung der Preisaenderung (je steiler, desto wertvoller)\n",
        "                \"priceMean0\",     #  avererage der letzten avgsize trades\n",
        "\n",
        "                \"ago250diffAct\",\n",
        "                \"ago250diff\",     #  aenderung des Preises vor 250 Bloecken zum vorherigen block (prc_last)\n",
        "                \"ago250grad\",     #  steigung des Preises vor 250 Bloecken zum vorherigen block (prc_last)\n",
        "                \"avg250diff\",\n",
        "                \"avg250grad\",\n",
        "                \"avg250diffAct\",  #  differenz des 250-Bloecke Avg.Preises zum actual Price\n",
        "                \"avg250crossAct\", #  Schneiden der 250 line und der Act Line (-1 von unten nach oben, 1 von oben nqch unten)\n",
        "\n",
        "                \"ago1000diffAct\",\n",
        "                \"ago1000diff\",    #  dto.fuer 1000 Bloecke\n",
        "                \"ago1000grad\",\n",
        "                \"avg1000diff\",\n",
        "                \"avg1000grad\",\n",
        "                \"avg1000diffAct\",\n",
        "                \"avg1000crossAct\",\n",
        "\n",
        "                \"avg1000diff250\"]\n",
        "\n",
        "    np_in = df3c[ featr ].to_numpy()[50:]\n",
        "    np_trans = preprocessing.StandardScaler().fit_transform(np_in)\n",
        "    data = np.column_stack((np_trans, df3c[ triggercol_ ].to_numpy()[50:]))\n",
        "\n",
        "    train_size = int(len(data) * 0.95)\n",
        "    train_data = data[:train_size]\n",
        "    test_data  = data[train_size:]\n",
        "\n",
        "    look_back = 10\n",
        "    x_train, y_train = create_dataset(train_data, look_back)\n",
        "    return x_train, y_train"
      ]
    },
    {
      "cell_type": "code",
      "execution_count": null,
      "metadata": {
        "id": "oXkPCw2Nk8OX"
      },
      "outputs": [],
      "source": [
        "ii=0\n",
        "for name in os.listdir(path + 'train/'):\n",
        "  if name.endswith(\".csv\"):\n",
        "    X_train2, Y_train2 = create_day4lstm(path+'train/', name, triggerCol)\n",
        "    X_train_all = X_train2 if ii == 0 else np.concatenate((X_train_all, X_train2), axis=0)\n",
        "    Y_train_all = Y_train2 if ii == 0 else np.concatenate((Y_train_all, Y_train2), axis=0)\n",
        "    print(name)\n",
        "    ii = ii+1\n",
        "\n",
        "print(ii)"
      ]
    },
    {
      "cell_type": "code",
      "execution_count": null,
      "metadata": {
        "colab": {
          "base_uri": "https://localhost:8080/",
          "height": 302
        },
        "id": "HRwCN558RBLC",
        "outputId": "04bb27db-82ab-4d55-d2de-ac556392402c"
      },
      "outputs": [
        {
          "output_type": "stream",
          "name": "stderr",
          "text": [
            "/usr/local/lib/python3.11/dist-packages/keras/src/layers/rnn/rnn.py:200: UserWarning: Do not pass an `input_shape`/`input_dim` argument to a layer. When using Sequential models, prefer using an `Input(shape)` object as the first layer in the model instead.\n",
            "  super().__init__(**kwargs)\n"
          ]
        },
        {
          "output_type": "display_data",
          "data": {
            "text/plain": [
              "\u001b[1mModel: \"sequential\"\u001b[0m\n"
            ],
            "text/html": [
              "<pre style=\"white-space:pre;overflow-x:auto;line-height:normal;font-family:Menlo,'DejaVu Sans Mono',consolas,'Courier New',monospace\"><span style=\"font-weight: bold\">Model: \"sequential\"</span>\n",
              "</pre>\n"
            ]
          },
          "metadata": {}
        },
        {
          "output_type": "display_data",
          "data": {
            "text/plain": [
              "┏━━━━━━━━━━━━━━━━━━━━━━━━━━━━━━━━━━━━━━┳━━━━━━━━━━━━━━━━━━━━━━━━━━━━━┳━━━━━━━━━━━━━━━━━┓\n",
              "┃\u001b[1m \u001b[0m\u001b[1mLayer (type)                        \u001b[0m\u001b[1m \u001b[0m┃\u001b[1m \u001b[0m\u001b[1mOutput Shape               \u001b[0m\u001b[1m \u001b[0m┃\u001b[1m \u001b[0m\u001b[1m        Param #\u001b[0m\u001b[1m \u001b[0m┃\n",
              "┡━━━━━━━━━━━━━━━━━━━━━━━━━━━━━━━━━━━━━━╇━━━━━━━━━━━━━━━━━━━━━━━━━━━━━╇━━━━━━━━━━━━━━━━━┩\n",
              "│ lstm (\u001b[38;5;33mLSTM\u001b[0m)                          │ (\u001b[38;5;45mNone\u001b[0m, \u001b[38;5;34m10\u001b[0m, \u001b[38;5;34m32\u001b[0m)              │           \u001b[38;5;34m6,784\u001b[0m │\n",
              "├──────────────────────────────────────┼─────────────────────────────┼─────────────────┤\n",
              "│ lstm_1 (\u001b[38;5;33mLSTM\u001b[0m)                        │ (\u001b[38;5;45mNone\u001b[0m, \u001b[38;5;34m32\u001b[0m)                  │           \u001b[38;5;34m8,320\u001b[0m │\n",
              "├──────────────────────────────────────┼─────────────────────────────┼─────────────────┤\n",
              "│ dense (\u001b[38;5;33mDense\u001b[0m)                        │ (\u001b[38;5;45mNone\u001b[0m, \u001b[38;5;34m1\u001b[0m)                   │              \u001b[38;5;34m33\u001b[0m │\n",
              "└──────────────────────────────────────┴─────────────────────────────┴─────────────────┘\n"
            ],
            "text/html": [
              "<pre style=\"white-space:pre;overflow-x:auto;line-height:normal;font-family:Menlo,'DejaVu Sans Mono',consolas,'Courier New',monospace\">┏━━━━━━━━━━━━━━━━━━━━━━━━━━━━━━━━━━━━━━┳━━━━━━━━━━━━━━━━━━━━━━━━━━━━━┳━━━━━━━━━━━━━━━━━┓\n",
              "┃<span style=\"font-weight: bold\"> Layer (type)                         </span>┃<span style=\"font-weight: bold\"> Output Shape                </span>┃<span style=\"font-weight: bold\">         Param # </span>┃\n",
              "┡━━━━━━━━━━━━━━━━━━━━━━━━━━━━━━━━━━━━━━╇━━━━━━━━━━━━━━━━━━━━━━━━━━━━━╇━━━━━━━━━━━━━━━━━┩\n",
              "│ lstm (<span style=\"color: #0087ff; text-decoration-color: #0087ff\">LSTM</span>)                          │ (<span style=\"color: #00d7ff; text-decoration-color: #00d7ff\">None</span>, <span style=\"color: #00af00; text-decoration-color: #00af00\">10</span>, <span style=\"color: #00af00; text-decoration-color: #00af00\">32</span>)              │           <span style=\"color: #00af00; text-decoration-color: #00af00\">6,784</span> │\n",
              "├──────────────────────────────────────┼─────────────────────────────┼─────────────────┤\n",
              "│ lstm_1 (<span style=\"color: #0087ff; text-decoration-color: #0087ff\">LSTM</span>)                        │ (<span style=\"color: #00d7ff; text-decoration-color: #00d7ff\">None</span>, <span style=\"color: #00af00; text-decoration-color: #00af00\">32</span>)                  │           <span style=\"color: #00af00; text-decoration-color: #00af00\">8,320</span> │\n",
              "├──────────────────────────────────────┼─────────────────────────────┼─────────────────┤\n",
              "│ dense (<span style=\"color: #0087ff; text-decoration-color: #0087ff\">Dense</span>)                        │ (<span style=\"color: #00d7ff; text-decoration-color: #00d7ff\">None</span>, <span style=\"color: #00af00; text-decoration-color: #00af00\">1</span>)                   │              <span style=\"color: #00af00; text-decoration-color: #00af00\">33</span> │\n",
              "└──────────────────────────────────────┴─────────────────────────────┴─────────────────┘\n",
              "</pre>\n"
            ]
          },
          "metadata": {}
        },
        {
          "output_type": "display_data",
          "data": {
            "text/plain": [
              "\u001b[1m Total params: \u001b[0m\u001b[38;5;34m15,137\u001b[0m (59.13 KB)\n"
            ],
            "text/html": [
              "<pre style=\"white-space:pre;overflow-x:auto;line-height:normal;font-family:Menlo,'DejaVu Sans Mono',consolas,'Courier New',monospace\"><span style=\"font-weight: bold\"> Total params: </span><span style=\"color: #00af00; text-decoration-color: #00af00\">15,137</span> (59.13 KB)\n",
              "</pre>\n"
            ]
          },
          "metadata": {}
        },
        {
          "output_type": "display_data",
          "data": {
            "text/plain": [
              "\u001b[1m Trainable params: \u001b[0m\u001b[38;5;34m15,137\u001b[0m (59.13 KB)\n"
            ],
            "text/html": [
              "<pre style=\"white-space:pre;overflow-x:auto;line-height:normal;font-family:Menlo,'DejaVu Sans Mono',consolas,'Courier New',monospace\"><span style=\"font-weight: bold\"> Trainable params: </span><span style=\"color: #00af00; text-decoration-color: #00af00\">15,137</span> (59.13 KB)\n",
              "</pre>\n"
            ]
          },
          "metadata": {}
        },
        {
          "output_type": "display_data",
          "data": {
            "text/plain": [
              "\u001b[1m Non-trainable params: \u001b[0m\u001b[38;5;34m0\u001b[0m (0.00 B)\n"
            ],
            "text/html": [
              "<pre style=\"white-space:pre;overflow-x:auto;line-height:normal;font-family:Menlo,'DejaVu Sans Mono',consolas,'Courier New',monospace\"><span style=\"font-weight: bold\"> Non-trainable params: </span><span style=\"color: #00af00; text-decoration-color: #00af00\">0</span> (0.00 B)\n",
              "</pre>\n"
            ]
          },
          "metadata": {}
        }
      ],
      "source": [
        "# 2. LSTM-Modell erstellen\n",
        "model = tf.keras.Sequential()\n",
        "model.add(tf.keras.layers.LSTM(units=32, return_sequences=True, input_shape=(X_train_all.shape[1], X_train_all.shape[2])))\n",
        "model.add(tf.keras.layers.LSTM(units=32))\n",
        "model.add(tf.keras.layers.Dense(1, activation= \"sigmoid\"))           # dense(1 ... )\"sigmoid\"))\n",
        "# 3. Modell kompilieren und trainieren\n",
        "model.compile(optimizer='adam',  loss=tf.keras.losses.BinaryCrossentropy(from_logits=True),    metrics= ['accuracy'])\n",
        "model.summary()"
      ]
    },
    {
      "cell_type": "code",
      "execution_count": null,
      "metadata": {
        "id": "6CEf5ZyHb9U1"
      },
      "outputs": [],
      "source": [
        "# early_stopping = EarlyStopping( monitor='loss', baseline=0.0000000001 )   #klappt nicht richtig\n",
        "checkpoint = ModelCheckpoint( filepath='/content/model/chkmodel_' + triggerCol + '83_best9.keras', monitor='loss', save_best_only=True)\n",
        "\n",
        "model.fit( X_train_all, Y_train_all, epochs=97, batch_size=4, verbose=2, callbacks=[checkpoint] )"
      ]
    },
    {
      "cell_type": "code",
      "execution_count": null,
      "metadata": {
        "colab": {
          "base_uri": "https://localhost:8080/",
          "height": 264
        },
        "id": "It-zAO0Ty9f-",
        "outputId": "107dfd78-6d40-4316-8791-63d6c1457887"
      },
      "outputs": [
        {
          "output_type": "display_data",
          "data": {
            "text/plain": [
              "\u001b[1mModel: \"sequential\"\u001b[0m\n"
            ],
            "text/html": [
              "<pre style=\"white-space:pre;overflow-x:auto;line-height:normal;font-family:Menlo,'DejaVu Sans Mono',consolas,'Courier New',monospace\"><span style=\"font-weight: bold\">Model: \"sequential\"</span>\n",
              "</pre>\n"
            ]
          },
          "metadata": {}
        },
        {
          "output_type": "display_data",
          "data": {
            "text/plain": [
              "┏━━━━━━━━━━━━━━━━━━━━━━━━━━━━━━━━━━━━━━┳━━━━━━━━━━━━━━━━━━━━━━━━━━━━━┳━━━━━━━━━━━━━━━━━┓\n",
              "┃\u001b[1m \u001b[0m\u001b[1mLayer (type)                        \u001b[0m\u001b[1m \u001b[0m┃\u001b[1m \u001b[0m\u001b[1mOutput Shape               \u001b[0m\u001b[1m \u001b[0m┃\u001b[1m \u001b[0m\u001b[1m        Param #\u001b[0m\u001b[1m \u001b[0m┃\n",
              "┡━━━━━━━━━━━━━━━━━━━━━━━━━━━━━━━━━━━━━━╇━━━━━━━━━━━━━━━━━━━━━━━━━━━━━╇━━━━━━━━━━━━━━━━━┩\n",
              "│ lstm (\u001b[38;5;33mLSTM\u001b[0m)                          │ (\u001b[38;5;45mNone\u001b[0m, \u001b[38;5;34m10\u001b[0m, \u001b[38;5;34m32\u001b[0m)              │           \u001b[38;5;34m6,784\u001b[0m │\n",
              "├──────────────────────────────────────┼─────────────────────────────┼─────────────────┤\n",
              "│ lstm_1 (\u001b[38;5;33mLSTM\u001b[0m)                        │ (\u001b[38;5;45mNone\u001b[0m, \u001b[38;5;34m32\u001b[0m)                  │           \u001b[38;5;34m8,320\u001b[0m │\n",
              "├──────────────────────────────────────┼─────────────────────────────┼─────────────────┤\n",
              "│ dense (\u001b[38;5;33mDense\u001b[0m)                        │ (\u001b[38;5;45mNone\u001b[0m, \u001b[38;5;34m1\u001b[0m)                   │              \u001b[38;5;34m33\u001b[0m │\n",
              "└──────────────────────────────────────┴─────────────────────────────┴─────────────────┘\n"
            ],
            "text/html": [
              "<pre style=\"white-space:pre;overflow-x:auto;line-height:normal;font-family:Menlo,'DejaVu Sans Mono',consolas,'Courier New',monospace\">┏━━━━━━━━━━━━━━━━━━━━━━━━━━━━━━━━━━━━━━┳━━━━━━━━━━━━━━━━━━━━━━━━━━━━━┳━━━━━━━━━━━━━━━━━┓\n",
              "┃<span style=\"font-weight: bold\"> Layer (type)                         </span>┃<span style=\"font-weight: bold\"> Output Shape                </span>┃<span style=\"font-weight: bold\">         Param # </span>┃\n",
              "┡━━━━━━━━━━━━━━━━━━━━━━━━━━━━━━━━━━━━━━╇━━━━━━━━━━━━━━━━━━━━━━━━━━━━━╇━━━━━━━━━━━━━━━━━┩\n",
              "│ lstm (<span style=\"color: #0087ff; text-decoration-color: #0087ff\">LSTM</span>)                          │ (<span style=\"color: #00d7ff; text-decoration-color: #00d7ff\">None</span>, <span style=\"color: #00af00; text-decoration-color: #00af00\">10</span>, <span style=\"color: #00af00; text-decoration-color: #00af00\">32</span>)              │           <span style=\"color: #00af00; text-decoration-color: #00af00\">6,784</span> │\n",
              "├──────────────────────────────────────┼─────────────────────────────┼─────────────────┤\n",
              "│ lstm_1 (<span style=\"color: #0087ff; text-decoration-color: #0087ff\">LSTM</span>)                        │ (<span style=\"color: #00d7ff; text-decoration-color: #00d7ff\">None</span>, <span style=\"color: #00af00; text-decoration-color: #00af00\">32</span>)                  │           <span style=\"color: #00af00; text-decoration-color: #00af00\">8,320</span> │\n",
              "├──────────────────────────────────────┼─────────────────────────────┼─────────────────┤\n",
              "│ dense (<span style=\"color: #0087ff; text-decoration-color: #0087ff\">Dense</span>)                        │ (<span style=\"color: #00d7ff; text-decoration-color: #00d7ff\">None</span>, <span style=\"color: #00af00; text-decoration-color: #00af00\">1</span>)                   │              <span style=\"color: #00af00; text-decoration-color: #00af00\">33</span> │\n",
              "└──────────────────────────────────────┴─────────────────────────────┴─────────────────┘\n",
              "</pre>\n"
            ]
          },
          "metadata": {}
        },
        {
          "output_type": "display_data",
          "data": {
            "text/plain": [
              "\u001b[1m Total params: \u001b[0m\u001b[38;5;34m45,413\u001b[0m (177.40 KB)\n"
            ],
            "text/html": [
              "<pre style=\"white-space:pre;overflow-x:auto;line-height:normal;font-family:Menlo,'DejaVu Sans Mono',consolas,'Courier New',monospace\"><span style=\"font-weight: bold\"> Total params: </span><span style=\"color: #00af00; text-decoration-color: #00af00\">45,413</span> (177.40 KB)\n",
              "</pre>\n"
            ]
          },
          "metadata": {}
        },
        {
          "output_type": "display_data",
          "data": {
            "text/plain": [
              "\u001b[1m Trainable params: \u001b[0m\u001b[38;5;34m15,137\u001b[0m (59.13 KB)\n"
            ],
            "text/html": [
              "<pre style=\"white-space:pre;overflow-x:auto;line-height:normal;font-family:Menlo,'DejaVu Sans Mono',consolas,'Courier New',monospace\"><span style=\"font-weight: bold\"> Trainable params: </span><span style=\"color: #00af00; text-decoration-color: #00af00\">15,137</span> (59.13 KB)\n",
              "</pre>\n"
            ]
          },
          "metadata": {}
        },
        {
          "output_type": "display_data",
          "data": {
            "text/plain": [
              "\u001b[1m Non-trainable params: \u001b[0m\u001b[38;5;34m0\u001b[0m (0.00 B)\n"
            ],
            "text/html": [
              "<pre style=\"white-space:pre;overflow-x:auto;line-height:normal;font-family:Menlo,'DejaVu Sans Mono',consolas,'Courier New',monospace\"><span style=\"font-weight: bold\"> Non-trainable params: </span><span style=\"color: #00af00; text-decoration-color: #00af00\">0</span> (0.00 B)\n",
              "</pre>\n"
            ]
          },
          "metadata": {}
        },
        {
          "output_type": "display_data",
          "data": {
            "text/plain": [
              "\u001b[1m Optimizer params: \u001b[0m\u001b[38;5;34m30,276\u001b[0m (118.27 KB)\n"
            ],
            "text/html": [
              "<pre style=\"white-space:pre;overflow-x:auto;line-height:normal;font-family:Menlo,'DejaVu Sans Mono',consolas,'Courier New',monospace\"><span style=\"font-weight: bold\"> Optimizer params: </span><span style=\"color: #00af00; text-decoration-color: #00af00\">30,276</span> (118.27 KB)\n",
              "</pre>\n"
            ]
          },
          "metadata": {}
        }
      ],
      "source": [
        "#model.save(path + 'model/model_' + triggerCol + '_1.keras')\n",
        "model.summary()"
      ]
    }
  ],
  "metadata": {
    "accelerator": "GPU",
    "colab": {
      "gpuType": "T4",
      "provenance": []
    },
    "kernelspec": {
      "display_name": "Python 3",
      "name": "python3"
    }
  },
  "nbformat": 4,
  "nbformat_minor": 0
}