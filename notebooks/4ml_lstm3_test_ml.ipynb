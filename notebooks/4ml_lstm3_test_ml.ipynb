{
  "cells": [
    {
      "cell_type": "code",
      "source": [
        "import pandas as pd\n",
        "import numpy as np\n",
        "from sklearn import preprocessing\n",
        "import tensorflow as tf\n",
        "# import shap\n",
        "import plotly.express as px\n",
        "import plotly.graph_objs as go\n",
        "import os\n"
      ],
      "metadata": {
        "id": "Ugj2EznpQWee"
      },
      "execution_count": null,
      "outputs": []
    },
    {
      "cell_type": "code",
      "source": [
        "#testname   = \"_prc_24_05_14Ext.csv\"\n",
        "path       = '/content/'\n",
        "size_      = \"500\"\n",
        "trigger_   = \"trigger\" + size_\n",
        "# triggerCol = \"mytrig_hi\"\n",
        "hi_lo      = \"hi\"\n",
        "triggerCol = trigger_ + hi_lo\n",
        "#modelname  = \"model_\"+triggerCol+\"_1.keras\"\n",
        "#modelname  = \"chkmodel_mytrig_\"+hi_lo+\"_1.keras\"\n",
        "\n",
        "#model_hi50  = \"chkmodel_mytrig_hi83_a_9989_0031.keras\"          #noTrain\n",
        "#model_lo50  = \"chkmodel_mytrig_lo83_a_9989_0031.keras\"\n",
        "\n",
        "#model_hi50  = \"chkmodel_mytrig_hi83_b_9990_0027.keras\"          #noTrain\n",
        "#model_lo50  = \"chkmodel_mytrig_lo83_b_9990_0033.keras\"\n",
        "\n",
        "#model_hi50  = \"chkmodel_mytrig_hi91_dcba_9993_0025.keras\"      #mitTrain\n",
        "#model_lo50  = \"chkmodel_mytrig_lo91_cbad_9991_0028.keras\"\n",
        "\n",
        "model_hi50  = \"chkmodel_mytrig_hi67_best9_9992_0024.keras\"     #mitTrain\n",
        "model_lo50  = \"chkmodel_mytrig_lo67_best9_9989_0026.keras\"\n",
        "\n",
        "model_hi20  = \"chkmodel_mytrig_hi50_best8_9999_000797.keras\"   #noTrain\n",
        "model_lo20  = \"chkmodel_mytrig_lo50_best1_9994_0021.keras\"\n",
        "\n",
        "#model_hi20  = \"model_mytrig_hi20_1.keras\"                      #noTrain\n",
        "#model_lo20  = \"model_mytrig_lo20_1.keras\"\n"
      ],
      "metadata": {
        "id": "ZHVw0oWLhCs0"
      },
      "execution_count": null,
      "outputs": []
    },
    {
      "cell_type": "code",
      "source": [
        "# Funktion zum Erstellen von Datensätzen für LSTM\n",
        "# Diese Funktion bereitet die Daten für das LSTM-Modell vor, indem sie Sequenzen (look_back) und die entsprechenden Zielwerte erstellt.\n",
        "def create_dataset(dataset, look_back=1):\n",
        "  # X wird die Liste der Eingabesequenzen für das LSTM sein.\n",
        "  # Y wird die Liste der entsprechenden Zielwerte sein.\n",
        "  X, Y = [], []\n",
        "  # Iteriere durch das Dataset. Die Schleife endet früh genug, um sicherzustellen, dass für jede Sequenz\n",
        "  # ein zukünftiger Zielwert (look_back Schritte entfernt) verfügbar ist.\n",
        "  for i in range(len(dataset)-look_back-1):\n",
        "    # Extrahiere eine Sequenz von 'look_back' Schritten aus dem Dataset.\n",
        "    # Die letzten Spalte (der Zielwert) wird dabei ausgeschlossen.\n",
        "    a = dataset[i:(i+look_back), :-1]\n",
        "    X.append(a)\n",
        "    # Extrahiere den Zielwert, der 'look_back' Schritte nach dem Ende der aktuellen Sequenz liegt.\n",
        "    # Dies ist der Wert, den das LSTM vorhersagen soll.\n",
        "    Y.append(dataset[i + look_back, -1])\n",
        "  # Konvertiere die Listen X und Y in NumPy-Arrays.\n",
        "  return np.array(X), np.array(Y)"
      ],
      "metadata": {
        "id": "o5RwYmVaQq9C"
      },
      "execution_count": null,
      "outputs": []
    },
    {
      "cell_type": "code",
      "source": [
        "def create_day4lstm(path_, name_, triggercol_):\n",
        "    df3  = pd.read_csv( path_ + name_ )\n",
        "    mytrig = True if (triggercol_[:6] == \"mytrig\") else False\n",
        "    print(triggercol_ + \" mytrig? \" + str(mytrig))\n",
        "    if mytrig:\n",
        "      dff  = pd.read_csv( path +          name_[:-7] +'Scorefix1.csv')\n",
        "      df3c = pd.concat([df3, dff] , axis = 1)\n",
        "    else:\n",
        "      df3c = df3\n",
        "\n",
        "    df3c[\"avg1000diff250\"] =df3c[\"avg1000diffAct\"] - df3c[\"avg250diffAct\"]\n",
        "    df3c[\"ago250diffAct\"]  =df3c[\"ago250price\"]   -df3c[\"priceMean\"]\n",
        "    df3c[\"ago1000diffAct\"] =df3c[\"ago1000price\"]  -df3c[\"priceMean\"]\n",
        "    df3c[\"trigger500hi\"]   =df3c['trigger500'] .shift(+2, fill_value=0).clip(lower=0)\n",
        "    df3c[\"trigger500lo\"]   =df3c['trigger500'] .shift(+2, fill_value=0).clip(upper=0) * -1\n",
        "    df3c[\"trigger1000hi\"]  =df3c['trigger1000'].shift(+2, fill_value=0).clip(lower=0)\n",
        "    df3c[\"trigger1000lo\"]  =df3c['trigger1000'].shift(+2, fill_value=0).clip(upper=0) * -1\n",
        "    if mytrig:\n",
        "      df3c[\"mytrig_hi\"]  =df3c['mytrig_'].shift(+2, fill_value=0).clip(lower=0)         # shift(+1\n",
        "      df3c[\"mytrig_lo\"]  =df3c['mytrig_'].shift(+2, fill_value=0).clip(upper=0) * -1\n",
        "\n",
        "    #   scoresize = 25 : anzahl trades als kleinste auswertungsblock mit min, max, mean, etc...  (zum traden evtl. zu groß gewaehlt)\n",
        "    #   avgsize   = 50 : anzahl trades die für avgXX werte genommenw werden\n",
        "    #   alle price angaben sind relativ zum startprice des tages\n",
        "    featr  = [  \"timescore\",      #  je kürzer der block desto wertvoller deshalb (3/timediff_sec)\n",
        "                \"volSum\",         #  summe gehandelte trades im Block\n",
        "                \"prcdiff\",        #  aenderung des Preises zum vorghrigen block (prc_last)\n",
        "                \"prcgrad\",        #  Steigung der Preisaenderung (je steiler, desto wertvoller)\n",
        "                \"priceMean0\",     #  avererage der letzten avgsize trades\n",
        "\n",
        "                \"ago250diffAct\",\n",
        "                \"ago250diff\",     #  aenderung des Preises vor 250 Bloecken zum vorherigen block (prc_last)\n",
        "                \"ago250grad\",     #  steigung des Preises vor 250 Bloecken zum vorherigen block (prc_last)\n",
        "                \"avg250diff\",\n",
        "                \"avg250grad\",\n",
        "                \"avg250diffAct\",  #  differenz des 250-Bloecke Avg.Preises zum actual Price\n",
        "                \"avg250crossAct\", #  Schneiden der 250 line und der Act Line (-1 von unten nach oben, 1 von oben nqch unten)\n",
        "\n",
        "                \"ago1000diffAct\",\n",
        "                \"ago1000diff\",    #  dto.fuer 1000 Bloecke\n",
        "                \"ago1000grad\",\n",
        "                \"avg1000diff\",\n",
        "                \"avg1000grad\",\n",
        "                \"avg1000diffAct\",\n",
        "                \"avg1000crossAct\",\n",
        "\n",
        "                \"avg1000diff250\"]\n",
        "\n",
        "    np_in = df3c[ featr ].to_numpy()[50:]\n",
        "    np_trans = preprocessing.StandardScaler().fit_transform(np_in)\n",
        "    data = np.column_stack((np_trans, df3c[ triggercol_ ].to_numpy()[50:]))\n",
        "\n",
        "    train_size = int(len(data) * 0.95)\n",
        "    train_data = data[:train_size]\n",
        "    test_data  = data[train_size:]\n",
        "\n",
        "    look_back = 10\n",
        "    x_train, y_train = create_dataset(train_data, look_back)\n",
        "    return x_train, y_train"
      ],
      "metadata": {
        "id": "trZuukMVpdAa"
      },
      "execution_count": null,
      "outputs": []
    },
    {
      "cell_type": "code",
      "source": [
        "model_hi20 = tf.keras.models.load_model(path + model_hi20)\n",
        "model_lo20 = tf.keras.models.load_model(path + model_lo20)\n",
        "model_hi50 = tf.keras.models.load_model(path + model_hi50)\n",
        "model_lo50 = tf.keras.models.load_model(path + model_lo50)\n",
        "\n",
        "model_hi50.summary()"
      ],
      "metadata": {
        "id": "2BZT7BeqwQef",
        "colab": {
          "base_uri": "https://localhost:8080/",
          "height": 244
        },
        "outputId": "6c11ed6f-aedc-40ec-b745-854bbfe1254a"
      },
      "execution_count": null,
      "outputs": [
        {
          "output_type": "display_data",
          "data": {
            "text/plain": [
              "\u001b[1mModel: \"sequential\"\u001b[0m\n"
            ],
            "text/html": [
              "<pre style=\"white-space:pre;overflow-x:auto;line-height:normal;font-family:Menlo,'DejaVu Sans Mono',consolas,'Courier New',monospace\"><span style=\"font-weight: bold\">Model: \"sequential\"</span>\n",
              "</pre>\n"
            ]
          },
          "metadata": {}
        },
        {
          "output_type": "display_data",
          "data": {
            "text/plain": [
              "┏━━━━━━━━━━━━━━━━━━━━━━━━━━━━━━━━━┳━━━━━━━━━━━━━━━━━━━━━━━━┳━━━━━━━━━━━━━━━┓\n",
              "┃\u001b[1m \u001b[0m\u001b[1mLayer (type)                   \u001b[0m\u001b[1m \u001b[0m┃\u001b[1m \u001b[0m\u001b[1mOutput Shape          \u001b[0m\u001b[1m \u001b[0m┃\u001b[1m \u001b[0m\u001b[1m      Param #\u001b[0m\u001b[1m \u001b[0m┃\n",
              "┡━━━━━━━━━━━━━━━━━━━━━━━━━━━━━━━━━╇━━━━━━━━━━━━━━━━━━━━━━━━╇━━━━━━━━━━━━━━━┩\n",
              "│ lstm (\u001b[38;5;33mLSTM\u001b[0m)                     │ (\u001b[38;5;45mNone\u001b[0m, \u001b[38;5;34m10\u001b[0m, \u001b[38;5;34m32\u001b[0m)         │         \u001b[38;5;34m6,784\u001b[0m │\n",
              "├─────────────────────────────────┼────────────────────────┼───────────────┤\n",
              "│ lstm_1 (\u001b[38;5;33mLSTM\u001b[0m)                   │ (\u001b[38;5;45mNone\u001b[0m, \u001b[38;5;34m32\u001b[0m)             │         \u001b[38;5;34m8,320\u001b[0m │\n",
              "├─────────────────────────────────┼────────────────────────┼───────────────┤\n",
              "│ dense (\u001b[38;5;33mDense\u001b[0m)                   │ (\u001b[38;5;45mNone\u001b[0m, \u001b[38;5;34m1\u001b[0m)              │            \u001b[38;5;34m33\u001b[0m │\n",
              "└─────────────────────────────────┴────────────────────────┴───────────────┘\n"
            ],
            "text/html": [
              "<pre style=\"white-space:pre;overflow-x:auto;line-height:normal;font-family:Menlo,'DejaVu Sans Mono',consolas,'Courier New',monospace\">┏━━━━━━━━━━━━━━━━━━━━━━━━━━━━━━━━━┳━━━━━━━━━━━━━━━━━━━━━━━━┳━━━━━━━━━━━━━━━┓\n",
              "┃<span style=\"font-weight: bold\"> Layer (type)                    </span>┃<span style=\"font-weight: bold\"> Output Shape           </span>┃<span style=\"font-weight: bold\">       Param # </span>┃\n",
              "┡━━━━━━━━━━━━━━━━━━━━━━━━━━━━━━━━━╇━━━━━━━━━━━━━━━━━━━━━━━━╇━━━━━━━━━━━━━━━┩\n",
              "│ lstm (<span style=\"color: #0087ff; text-decoration-color: #0087ff\">LSTM</span>)                     │ (<span style=\"color: #00d7ff; text-decoration-color: #00d7ff\">None</span>, <span style=\"color: #00af00; text-decoration-color: #00af00\">10</span>, <span style=\"color: #00af00; text-decoration-color: #00af00\">32</span>)         │         <span style=\"color: #00af00; text-decoration-color: #00af00\">6,784</span> │\n",
              "├─────────────────────────────────┼────────────────────────┼───────────────┤\n",
              "│ lstm_1 (<span style=\"color: #0087ff; text-decoration-color: #0087ff\">LSTM</span>)                   │ (<span style=\"color: #00d7ff; text-decoration-color: #00d7ff\">None</span>, <span style=\"color: #00af00; text-decoration-color: #00af00\">32</span>)             │         <span style=\"color: #00af00; text-decoration-color: #00af00\">8,320</span> │\n",
              "├─────────────────────────────────┼────────────────────────┼───────────────┤\n",
              "│ dense (<span style=\"color: #0087ff; text-decoration-color: #0087ff\">Dense</span>)                   │ (<span style=\"color: #00d7ff; text-decoration-color: #00d7ff\">None</span>, <span style=\"color: #00af00; text-decoration-color: #00af00\">1</span>)              │            <span style=\"color: #00af00; text-decoration-color: #00af00\">33</span> │\n",
              "└─────────────────────────────────┴────────────────────────┴───────────────┘\n",
              "</pre>\n"
            ]
          },
          "metadata": {}
        },
        {
          "output_type": "display_data",
          "data": {
            "text/plain": [
              "\u001b[1m Total params: \u001b[0m\u001b[38;5;34m45,413\u001b[0m (177.40 KB)\n"
            ],
            "text/html": [
              "<pre style=\"white-space:pre;overflow-x:auto;line-height:normal;font-family:Menlo,'DejaVu Sans Mono',consolas,'Courier New',monospace\"><span style=\"font-weight: bold\"> Total params: </span><span style=\"color: #00af00; text-decoration-color: #00af00\">45,413</span> (177.40 KB)\n",
              "</pre>\n"
            ]
          },
          "metadata": {}
        },
        {
          "output_type": "display_data",
          "data": {
            "text/plain": [
              "\u001b[1m Trainable params: \u001b[0m\u001b[38;5;34m15,137\u001b[0m (59.13 KB)\n"
            ],
            "text/html": [
              "<pre style=\"white-space:pre;overflow-x:auto;line-height:normal;font-family:Menlo,'DejaVu Sans Mono',consolas,'Courier New',monospace\"><span style=\"font-weight: bold\"> Trainable params: </span><span style=\"color: #00af00; text-decoration-color: #00af00\">15,137</span> (59.13 KB)\n",
              "</pre>\n"
            ]
          },
          "metadata": {}
        },
        {
          "output_type": "display_data",
          "data": {
            "text/plain": [
              "\u001b[1m Non-trainable params: \u001b[0m\u001b[38;5;34m0\u001b[0m (0.00 B)\n"
            ],
            "text/html": [
              "<pre style=\"white-space:pre;overflow-x:auto;line-height:normal;font-family:Menlo,'DejaVu Sans Mono',consolas,'Courier New',monospace\"><span style=\"font-weight: bold\"> Non-trainable params: </span><span style=\"color: #00af00; text-decoration-color: #00af00\">0</span> (0.00 B)\n",
              "</pre>\n"
            ]
          },
          "metadata": {}
        },
        {
          "output_type": "display_data",
          "data": {
            "text/plain": [
              "\u001b[1m Optimizer params: \u001b[0m\u001b[38;5;34m30,276\u001b[0m (118.27 KB)\n"
            ],
            "text/html": [
              "<pre style=\"white-space:pre;overflow-x:auto;line-height:normal;font-family:Menlo,'DejaVu Sans Mono',consolas,'Courier New',monospace\"><span style=\"font-weight: bold\"> Optimizer params: </span><span style=\"color: #00af00; text-decoration-color: #00af00\">30,276</span> (118.27 KB)\n",
              "</pre>\n"
            ]
          },
          "metadata": {}
        }
      ]
    },
    {
      "cell_type": "code",
      "source": [
        "# #########################################################################\n",
        "# #########################################################################\n",
        "usemytrig    = True  #False  #True\n",
        "fixtrigger   = \"mytrig_\" if usemytrig else trigger_\n",
        "traintrigger = \"mytrig_\" if usemytrig else trigger_ #Col # trigger_  >> bei mytrigger beide richtungen\n",
        "\n",
        "testdatum  = \"24_11_24\"\n",
        "testname2  = \"_prc_\"+testdatum+\"Ext.csv\"\n",
        "X_test, Y_test = create_day4lstm(path, testname2, traintrigger) #triggerCol)\n",
        "\n",
        "predict_lo50 = model_lo50.predict(X_test)\n",
        "\n",
        "predict_hi20 = model_hi20.predict(X_test)\n",
        "predict_lo20 = model_lo20.predict(X_test)\n",
        "predict_hi50 = model_hi50.predict(X_test)\n",
        "#predict_lo50 = model_lo50.predict(X_test)\n",
        "\n",
        "tt_hi20 = predict_hi20.reshape(-1)\n",
        "tt_lo20 = predict_lo20.reshape(-1)\n",
        "tt_hi50 = predict_hi50.reshape(-1)\n",
        "tt_lo50 = predict_lo50.reshape(-1)\n",
        "\n",
        "tt_hi20_idx = np.where(tt_hi20 > 0.5)[0]\n",
        "tt_lo20_idx = np.where(tt_lo20 > 0.5)[0]\n",
        "tt_hi50_idx = np.where(tt_hi50 > 0.5)[0]\n",
        "tt_lo50_idx = np.where(tt_lo50 > 0.5)[0]"
      ],
      "metadata": {
        "id": "Qod6OtmCBGDV",
        "colab": {
          "base_uri": "https://localhost:8080/"
        },
        "outputId": "eda97d03-b7fa-47f4-b2d0-3ba141498944"
      },
      "execution_count": null,
      "outputs": [
        {
          "output_type": "stream",
          "name": "stdout",
          "text": [
            "mytrig_ mytrig? True\n",
            "\u001b[1m10/10\u001b[0m \u001b[32m━━━━━━━━━━━━━━━━━━━━\u001b[0m\u001b[37m\u001b[0m \u001b[1m0s\u001b[0m 7ms/step \n",
            "\u001b[1m10/10\u001b[0m \u001b[32m━━━━━━━━━━━━━━━━━━━━\u001b[0m\u001b[37m\u001b[0m \u001b[1m0s\u001b[0m 8ms/step \n",
            "\u001b[1m10/10\u001b[0m \u001b[32m━━━━━━━━━━━━━━━━━━━━\u001b[0m\u001b[37m\u001b[0m \u001b[1m0s\u001b[0m 7ms/step \n",
            "\u001b[1m10/10\u001b[0m \u001b[32m━━━━━━━━━━━━━━━━━━━━\u001b[0m\u001b[37m\u001b[0m \u001b[1m0s\u001b[0m 7ms/step \n"
          ]
        }
      ]
    },
    {
      "cell_type": "code",
      "source": [
        "# ############################################################\n",
        "# prepare daraframe for grafik output\n",
        "\n",
        "df4c = pd.read_csv(path + testname2)\n",
        "df4c[\"trigger250hi\"]  = df4c['trigger250'] .shift(+2, fill_value=0).clip(lower=0)\n",
        "df4c[\"trigger250lo\"]  = df4c['trigger250'] .shift(+2, fill_value=0).clip(upper=0) * -1\n",
        "df4c[\"trigger500hi\"]  = df4c['trigger500'] .shift(+2, fill_value=0).clip(lower=0)\n",
        "df4c[\"trigger500lo\"]  = df4c['trigger500'] .shift(+2, fill_value=0).clip(upper=0) * -1\n",
        "df4c[\"trigger1000hi\"] = df4c['trigger1000'].shift(+2, fill_value=0).clip(lower=0)\n",
        "df4c[\"trigger1000lo\"] = df4c['trigger1000'].shift(+2, fill_value=0).clip(upper=0) * -1\n",
        "\n",
        "if usemytrig:\n",
        "  dff   = pd.read_csv( path +          testname2[:-7] +'Scorefix1.csv')\n",
        "  df4c2 = pd.concat([df4c, dff] , axis = 1)\n",
        "else:\n",
        "  df4c2 = df4c"
      ],
      "metadata": {
        "id": "iUnyS6Hoj-bl"
      },
      "execution_count": null,
      "outputs": []
    },
    {
      "cell_type": "code",
      "source": [
        "# show grafik with plotly express\n",
        "\n",
        "df4d = df4c2[50+10-2:].reset_index(drop=True)\n",
        "\n",
        "fig4c = px.line(df4d,  title=testname2, y=[\"priceMin0\", \"priceMax0\" ]) #ago250wavg0\",\"ago1000wavg0\" ]) #,\"pricein250n\" ])   #,\"dif1000N\" ])  #\"max1000N\",\"min1000N\"])\n",
        "fig4c.add_trace(go.Scatter(y = df4d['max'+size_+'_'],  line_color = 'gray', name=\"upper fwd\" )) #, line = {'dash': 'dash'} ))\n",
        "fig4c.add_trace(go.Scatter(y = df4d['min'+size_+'_'],  line_color = 'gray', name=\"lower fwd\"  )) #, line = {'dash': 'dash'} ))  #   opacity = 0.5))\n",
        "fig4c.add_trace(go.Bar    (y = df4d[fixtrigger]*100, width=2, name = \"trigger\"))\n",
        "fig4c.add_trace(go.Bar    (y = tt_hi50* 1000 ,  width=1, name = \"high(67)\" ))\n",
        "fig4c.add_trace(go.Bar    (y = tt_lo50*-1000 ,  width=1, name = \"low(67)\"))\n",
        "fig4c.show()\n",
        "\n",
        "fig4d = px.line(df4d,  title=testname2, y=[\"priceMin0\", \"priceMax0\" ]) #ago250wavg0\",\"ago1000wavg0\" ]) #,\"pricein250n\" ])   #,\"dif1000N\" ])  #\"max1000N\",\"min1000N\"])\n",
        "fig4d.add_trace(go.Scatter(y = df4d['max'+size_+'_'],  line_color = 'gray', name=\"upper fwd\" )) #, line = {'dash': 'dash'} ))\n",
        "fig4d.add_trace(go.Scatter(y = df4d['min'+size_+'_'],  line_color = 'gray', name=\"lower fwd\"  )) #, line = {'dash': 'dash'} ))  #   opacity = 0.5))\n",
        "fig4d.add_trace(go.Bar    (y = df4d[fixtrigger]*100, width=2, name = \"trigger\"))\n",
        "fig4d.add_trace(go.Bar    (y = tt_hi20* 1000 ,  width=1, name = \"high(50)\" ))\n",
        "fig4d.add_trace(go.Bar    (y = tt_lo20*-1000 ,  width=1, name = \"low(50)\"))\n",
        "fig4d.show()"
      ],
      "metadata": {
        "id": "sLFG7v9WGpLD"
      },
      "execution_count": null,
      "outputs": []
    },
    {
      "cell_type": "code",
      "source": [
        "# ############################################################\n",
        "# ############################################################\n",
        "# ############################################################\n",
        "# prepare for output of metrics and performance\n",
        "\n",
        "triggerZielHi = np.where(Y_test >0.5)[0] + 2  #>> finale ziel um 2 verschoben\n",
        "triggerZielLo = np.where(Y_test<-0.5)[0] + 2\n",
        "\n",
        "triggerZielLo"
      ],
      "metadata": {
        "colab": {
          "base_uri": "https://localhost:8080/"
        },
        "id": "wNdUAn1CSr8X",
        "outputId": "557bee05-f78f-4573-f205-46069340225d"
      },
      "execution_count": null,
      "outputs": [
        {
          "output_type": "execute_result",
          "data": {
            "text/plain": [
              "array([ 59,  87, 171, 218, 245])"
            ]
          },
          "metadata": {},
          "execution_count": 316
        }
      ]
    },
    {
      "cell_type": "code",
      "source": [
        "def print_metriken(trigger_my, trigger_ziel, header, wfile):# calc metriken\n",
        "  treffer_count = 0\n",
        "  for number in trigger_my:\n",
        "      found_in_range = False           # Setzen einer Markierung (Flag), um zu prüfen, ob die Zahl in einem Bereich gefunden wurde\n",
        "      for zielindex in trigger_ziel:    # Schleife durch jeden Bereich (start, end) im Array A\n",
        "          if (zielindex-2) <= number <= (zielindex+2):   # Prüfen, ob die Zahl innerhalb des aktuellen Bereichs liegt (inklusive der Grenzen)\n",
        "              found_in_range = True    # Wenn die Zahl gefunden wurde, wird die innere Schleife verlassen, um mit der nächsten Zahl in B weiterzumachen.\n",
        "              break\n",
        "      if found_in_range:               # Wenn die Markierung 'found_in_range' auf True gesetzt wurde, wird der Zähler erhöht\n",
        "          treffer_count += 1\n",
        "\n",
        "  notreffer_count     = len(trigger_my)  - treffer_count\n",
        "  zielnotfound_count  = len(trigger_ziel)- treffer_count\n",
        "\n",
        "  praezision = 0 if (len(trigger_my)<=0) else treffer_count / len(trigger_my)                           #Praezision = True Positives​ / (True Positives + False Positives)\n",
        "  recall     = treffer_count / (treffer_count + zielnotfound_count)      #Recall = True Positives​ / (True Positives + False Negatives)\n",
        "  f1_score   = 0 if (praezision + recall <= 0) else (2 * praezision * recall) / (praezision + recall)        #F1−Score = 2 x  (Praezision + Recall) / (Praezision x Recall​)\n",
        "\n",
        "  print(\"##### \" + header)\n",
        "  print(str(len(trigger_my))    + \" triggerMy_count\")\n",
        "  print(str(len(trigger_ziel))  + \" triggerZiel_count\")\n",
        "  print(str(treffer_count)      + \" trigger_treffer_count\")\n",
        "  print(str(notreffer_count)    + \" trigger_no_vorgabe_count\")\n",
        "  print(str(zielnotfound_count) + \" vorgabe_notfound_count\")\n",
        "  print(\"Praezision : \" + str(praezision) + \" / recall : \" + str(recall) + \" / f1_score : \" + str(f1_score) )\n",
        "  wfile.write( f\",{header},{len(trigger_my)},{len(trigger_ziel)},{treffer_count}\" )\n"
      ],
      "metadata": {
        "id": "hePYhoB7CPEV"
      },
      "execution_count": null,
      "outputs": []
    },
    {
      "cell_type": "code",
      "source": [
        "  with open(path + 'out_metrics.txt', 'a') as wfile:\n",
        "    wfile.write(testdatum);\n",
        "    print(testname2+\" - \"+testdatum)\n",
        "    print_metriken(tt_hi50_idx, triggerZielHi, \"HI 67\",wfile)\n",
        "    print_metriken(tt_lo50_idx, triggerZielLo, \"LO 67\",wfile)\n",
        "    print_metriken(tt_hi20_idx, triggerZielHi, \"HI 50\",wfile)\n",
        "    print_metriken(tt_lo20_idx, triggerZielLo, \"Lo 50\",wfile)\n",
        "    wfile.write(\"\\n\");"
      ],
      "metadata": {
        "colab": {
          "base_uri": "https://localhost:8080/"
        },
        "id": "teKUGdKfRchu",
        "outputId": "cf3d4ff7-4867-42a1-cd52-be9e489a1feb"
      },
      "execution_count": null,
      "outputs": [
        {
          "output_type": "stream",
          "name": "stdout",
          "text": [
            "_prc_24_11_27Ext.csv - 24_11_27\n",
            "##### HI 67\n",
            "5 triggerMy_count\n",
            "6 triggerZiel_count\n",
            "2 trigger_treffer_count\n",
            "3 trigger_no_vorgabe_count\n",
            "4 vorgabe_notfound_count\n",
            "Praezision : 0.4 / recall : 0.3333333333333333 / f1_score : 0.3636363636363636\n",
            "##### LO 67\n",
            "0 triggerMy_count\n",
            "5 triggerZiel_count\n",
            "0 trigger_treffer_count\n",
            "0 trigger_no_vorgabe_count\n",
            "5 vorgabe_notfound_count\n",
            "Praezision : 0 / recall : 0.0 / f1_score : 0\n",
            "##### HI 50\n",
            "3 triggerMy_count\n",
            "6 triggerZiel_count\n",
            "1 trigger_treffer_count\n",
            "2 trigger_no_vorgabe_count\n",
            "5 vorgabe_notfound_count\n",
            "Praezision : 0.3333333333333333 / recall : 0.16666666666666666 / f1_score : 0.2222222222222222\n",
            "##### Lo 50\n",
            "5 triggerMy_count\n",
            "5 triggerZiel_count\n",
            "1 trigger_treffer_count\n",
            "4 trigger_no_vorgabe_count\n",
            "4 vorgabe_notfound_count\n",
            "Praezision : 0.2 / recall : 0.2 / f1_score : 0.20000000000000004\n"
          ]
        }
      ]
    },
    {
      "cell_type": "code",
      "source": [
        "def print_performance(trigger_my, header, up_down_fkt, wfile):# calc metriken\n",
        "  print(\"##### \" + header)\n",
        "  midprices = df4d[\"priceMean0\"].to_numpy()\n",
        "  treffer_count = 0\n",
        "  sumdiff = maxdiff = mindiff = 0\n",
        "  for idx in trigger_my:\n",
        "      midprc0 = midprices[idx]\n",
        "      midprc9 = midprices[idx+10]\n",
        "      prcdiff = (midprc9 - midprc0) * up_down_fkt\n",
        "      sumdiff = sumdiff + prcdiff\n",
        "      maxdiff = maxdiff if (prcdiff < maxdiff) else prcdiff\n",
        "      mindiff = mindiff if (prcdiff > mindiff) else prcdiff\n",
        "\n",
        "      print (str(midprc0) + \" - \" + str(midprc9) + \" diff: \" + str( prcdiff ))\n",
        "\n",
        "      if prcdiff > 50:            # Wenn die Markierung 'found_in_range' auf True gesetzt wurde, wird der Zähler erhöht\n",
        "          treffer_count += 1\n",
        "\n",
        "  praezision_my = 0 if (len(trigger_my)<=0) else treffer_count / len(trigger_my)\n",
        "  print (str(treffer_count) + \" von \" + str(len(trigger_my)) + \" : in 10 bloecken +5 punkte\")\n",
        "  print(str(praezision_my) + \" : praezision_beiPerformance \")\n",
        "  print(str(sumdiff/10) + \" sumdiff in fdax punkten\")\n",
        "  wfile.write( f\",{header},{len(trigger_my)},{treffer_count},{sumdiff},{maxdiff},{mindiff}\" )\n"
      ],
      "metadata": {
        "id": "44HCcgyVG4Yj"
      },
      "execution_count": null,
      "outputs": []
    },
    {
      "cell_type": "code",
      "source": [
        "with open(path + 'out_stratbasis.txt', 'a') as wfile:\n",
        "  wfile.write(testdatum);\n",
        "  print(testname2)\n",
        "  print_performance(tt_hi50_idx, \"HI 67\",  1, wfile)\n",
        "  print_performance(tt_lo50_idx, \"LO 67\", -1, wfile)\n",
        "  print_performance(tt_hi20_idx, \"HI 50\",  1, wfile)\n",
        "  print_performance(tt_lo20_idx, \"LO 50\", -1, wfile)\n",
        "  wfile.write(\"\\n\");"
      ],
      "metadata": {
        "colab": {
          "base_uri": "https://localhost:8080/"
        },
        "id": "cdJSNDECVZd9",
        "outputId": "539261e7-19bf-41d3-e424-1f1bbb8f684b"
      },
      "execution_count": null,
      "outputs": [
        {
          "output_type": "stream",
          "name": "stdout",
          "text": [
            "_prc_24_11_27Ext.csv\n",
            "##### HI 67\n",
            "-672 - -536 diff: 136\n",
            "-597 - -355 diff: 242\n",
            "-665 - -785 diff: -120\n",
            "-302 - -112 diff: 190\n",
            "-388 - 22 diff: 410\n",
            "4 von 5 : in 10 bloecken +5 punkte\n",
            "0.8 : praezision_beiPerformance \n",
            "85.8 sumdiff in fdax punkten\n",
            "##### LO 67\n",
            "0 von 0 : in 10 bloecken +5 punkte\n",
            "0 : praezision_beiPerformance \n",
            "0.0 sumdiff in fdax punkten\n",
            "##### HI 50\n",
            "-672 - -536 diff: 136\n",
            "-561 - -403 diff: 158\n",
            "-67 - -332 diff: -265\n",
            "2 von 3 : in 10 bloecken +5 punkte\n",
            "0.6666666666666666 : praezision_beiPerformance \n",
            "2.9 sumdiff in fdax punkten\n",
            "##### LO 50\n",
            "-165 - -307 diff: 142\n",
            "-37 - 45 diff: -82\n",
            "112 - 260 diff: -148\n",
            "183 - 172 diff: 11\n",
            "0 - 208 diff: -208\n",
            "1 von 5 : in 10 bloecken +5 punkte\n",
            "0.2 : praezision_beiPerformance \n",
            "-28.5 sumdiff in fdax punkten\n"
          ]
        }
      ]
    },
    {
      "cell_type": "code",
      "source": [
        "def print_performance_limit(trigger_my, header, up_down_fkt, wfile):# calc metriken\n",
        "  print(\"##### \" + header)\n",
        "  midprices = df4d[\"priceMean0\"].to_numpy()\n",
        "  treffer_count = 0\n",
        "  sumdiff = maxdiff = mindiff = 0\n",
        "  limit_tics = 150\n",
        "  limit_akt  =  0\n",
        "  for idx in trigger_my:\n",
        "      midprc0     = midprices[idx]\n",
        "      limit_start = midprc0 - (limit_tics * up_down_fkt)   # start limit\n",
        "      limit_akt   = limit_start\n",
        "      print( \">>> stratidx \" + str(idx) + \" prc \" + str(midprc0) + \" limit \" + str(limit_akt) )\n",
        "\n",
        "      notstopped = True\n",
        "      fwdidx    = idx + 1\n",
        "      midprc_akt=0\n",
        "      while notstopped:\n",
        "          midprc_akt  = midprices[fwdidx]\n",
        "          if  fwdidx+1 >= len(midprices) or (midprc_akt - limit_akt) * up_down_fkt < 0:   # limit erreicht?\n",
        "              midprc9 = limit_akt\n",
        "              notstopped = False\n",
        "\n",
        "          if limit_tics > 50 : limit_tics -= 5\n",
        "          limit_new   = midprc_akt - (limit_tics * up_down_fkt)\n",
        "          if  (limit_new - limit_akt) * up_down_fkt > 0 and (limit_new - limit_start) * up_down_fkt > 0:\n",
        "              limit_akt = limit_new\n",
        "\n",
        "          #print( \"idx \" + str(fwdidx) + \" prc \" + str(midprc_akt) + \" limit \" + str(limit_akt) )\n",
        "          fwdidx += 1\n",
        "\n",
        "      print( \"idx \" + str(fwdidx) + \" prc \" + str(midprc_akt) + \" limit \" + str(limit_akt) )\n",
        "      prcdiff = (midprc9 - midprc0) * up_down_fkt\n",
        "      sumdiff = sumdiff + prcdiff\n",
        "      maxdiff = maxdiff if (prcdiff < maxdiff) else prcdiff\n",
        "      mindiff = mindiff if (prcdiff > mindiff) else prcdiff\n",
        "\n",
        "      print (str(midprc0) + \" - \" + str(midprc9) + \" diff: \" + str( prcdiff ))\n",
        "\n",
        "      if prcdiff > 50:            # Wenn die Markierung 'found_in_range' auf True gesetzt wurde, wird der Zähler erhöht\n",
        "          treffer_count += 1\n",
        "  print(\"=======================\")\n",
        "  print (str(treffer_count) + \" von \" + str(len(trigger_my)) + \" : im trade +5 punkte\")\n",
        "  print(str(sumdiff/10) + \" sumdiff in fdax punkten\")\n",
        "  wfile.write( f\",{header},{len(trigger_my)},{treffer_count},{sumdiff},{maxdiff},{mindiff}\" )\n",
        "  print(\" \")"
      ],
      "metadata": {
        "id": "Pvu5dyoMuzHy"
      },
      "execution_count": null,
      "outputs": []
    },
    {
      "cell_type": "code",
      "source": [
        "with open(path + 'out_stratlimit.txt', 'a') as wfile:\n",
        "  wfile.write(testdatum);\n",
        "  print(testname2)\n",
        "  print_performance_limit(tt_hi50_idx, \"HI 67\",  1, wfile)\n",
        "  print_performance_limit(tt_lo50_idx, \"LO 67\", -1, wfile)\n",
        "  print_performance_limit(tt_hi20_idx, \"HI 50\",  1, wfile)\n",
        "  print_performance_limit(tt_lo20_idx, \"LO 50\", -1, wfile)\n",
        "  wfile.write(\"\\n\");"
      ],
      "metadata": {
        "colab": {
          "base_uri": "https://localhost:8080/"
        },
        "id": "xLWUDU8Bu58H",
        "outputId": "b6fcce97-76e9-4b21-b533-f65e29b3f3e0"
      },
      "execution_count": null,
      "outputs": [
        {
          "output_type": "stream",
          "name": "stdout",
          "text": [
            "_prc_24_11_27Ext.csv\n",
            "##### HI 67\n",
            ">>> stratidx 13 prc -672 limit -822\n",
            "idx 48 prc -239 limit -237\n",
            "-672 - -237 diff: 435\n",
            ">>> stratidx 78 prc -597 limit -647\n",
            "idx 92 prc -480 limit -401\n",
            "-597 - -401 diff: 196\n",
            ">>> stratidx 93 prc -665 limit -715\n",
            "idx 99 prc -745 limit -715\n",
            "-665 - -715 diff: -50\n",
            ">>> stratidx 131 prc -302 limit -352\n",
            "idx 139 prc -115 limit -112\n",
            "-302 - -112 diff: 190\n",
            ">>> stratidx 190 prc -388 limit -438\n",
            "idx 213 prc 157 limit 182\n",
            "-388 - 182 diff: 570\n",
            "=======================\n",
            "4 von 5 : im trade +5 punkte\n",
            "134.1 sumdiff in fdax punkten\n",
            " \n",
            "##### LO 67\n",
            "=======================\n",
            "0 von 0 : im trade +5 punkte\n",
            "0.0 sumdiff in fdax punkten\n",
            " \n",
            "##### HI 50\n",
            ">>> stratidx 13 prc -672 limit -822\n",
            "idx 48 prc -239 limit -237\n",
            "-672 - -237 diff: 435\n",
            ">>> stratidx 77 prc -561 limit -611\n",
            "idx 80 prc -620 limit -611\n",
            "-561 - -611 diff: -50\n",
            ">>> stratidx 182 prc -67 limit -117\n",
            "idx 187 prc -125 limit -99\n",
            "-67 - -99 diff: -32\n",
            "=======================\n",
            "1 von 3 : im trade +5 punkte\n",
            "35.3 sumdiff in fdax punkten\n",
            " \n",
            "##### LO 50\n",
            ">>> stratidx 59 prc -165 limit -15\n",
            "idx 82 prc -565 limit -570\n",
            "-165 - -570 diff: 405\n",
            ">>> stratidx 144 prc -37 limit 13\n",
            "idx 153 prc -53 limit -79\n",
            "-37 - -79 diff: 42\n",
            ">>> stratidx 164 prc 112 limit 162\n",
            "idx 168 prc 183 limit 162\n",
            "112 - 162 diff: -50\n",
            ">>> stratidx 167 prc 183 limit 233\n",
            "idx 169 prc 241 limit 233\n",
            "183 - 233 diff: -50\n",
            ">>> stratidx 199 prc 0 limit 50\n",
            "idx 205 prc 73 limit 50\n",
            "0 - 50 diff: -50\n",
            "=======================\n",
            "1 von 5 : im trade +5 punkte\n",
            "29.7 sumdiff in fdax punkten\n",
            " \n"
          ]
        }
      ]
    },
    {
      "cell_type": "code",
      "source": [
        "# ###########################################\n",
        "# ###########################################\n",
        "# print output of small plots with plotly\n",
        "\n",
        "fig5 = px.line(df4d, y= [\"priceMean0\"], height=300)\n",
        "fig5.add_trace(go.Bar(y = tt_hi50 *  1000, width=1, name = \"high(67)\"))\n",
        "fig5.add_trace(go.Bar(y = tt_lo50 * -1000, width=1, name = \"low(67)\"))\n",
        "fig5.add_trace(go.Bar(y = df4d[fixtrigger]*100, width=2, name= \"trigger\" ))\n",
        "fig5.show()\n",
        "\n",
        "fig6 = px.line(df4d, y= [\"priceMean0\"], height=300)\n",
        "fig6.add_trace(go.Bar(y = tt_hi20 *  1000, width=1, name=\"high(50)\"))\n",
        "fig6.add_trace(go.Bar(y = tt_lo20 * -1000, width=1, name=\"low(50)\"))\n",
        "fig6.add_trace(go.Bar(y = df4d[fixtrigger]*100, width=2, name= \"trigger\" ))\n",
        "fig6.show()"
      ],
      "metadata": {
        "id": "9cibfZPV9vvO"
      },
      "execution_count": null,
      "outputs": []
    }
  ],
  "metadata": {
    "colab": {
      "provenance": []
    },
    "kernelspec": {
      "display_name": "Python 3",
      "name": "python3"
    }
  },
  "nbformat": 4,
  "nbformat_minor": 0
}